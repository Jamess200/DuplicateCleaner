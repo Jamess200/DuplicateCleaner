{
  "nbformat": 4,
  "nbformat_minor": 0,
  "metadata": {
    "colab": {
      "provenance": [],
      "mount_file_id": "1pD2kPjKo_quQjQK4xTBSLkxQkE8FLrJ1",
      "authorship_tag": "ABX9TyM8UZcE2D8Pe/tBotzpuJHJ",
      "include_colab_link": true
    },
    "kernelspec": {
      "name": "python3",
      "display_name": "Python 3"
    },
    "language_info": {
      "name": "python"
    }
  },
  "cells": [
    {
      "cell_type": "markdown",
      "metadata": {
        "id": "view-in-github",
        "colab_type": "text"
      },
      "source": [
        "<a href=\"https://colab.research.google.com/github/Jamess200/DuplicateCleaner/blob/main/Time_Test_BN_Test.ipynb\" target=\"_parent\"><img src=\"https://colab.research.google.com/assets/colab-badge.svg\" alt=\"Open In Colab\"/></a>"
      ]
    },
    {
      "cell_type": "code",
      "source": [
        "# Mount Google Drive\n",
        "from google.colab import drive\n",
        "drive.mount('/content/drive')"
      ],
      "metadata": {
        "colab": {
          "base_uri": "https://localhost:8080/",
          "height": 339
        },
        "id": "UBQ0gb-zJaF7",
        "outputId": "c27f6ec1-21cb-482b-eb4b-a9eb729b8391"
      },
      "execution_count": null,
      "outputs": [
        {
          "output_type": "error",
          "ename": "MessageError",
          "evalue": "Error: credential propagation was unsuccessful",
          "traceback": [
            "\u001b[0;31m---------------------------------------------------------------------------\u001b[0m",
            "\u001b[0;31mMessageError\u001b[0m                              Traceback (most recent call last)",
            "\u001b[0;32m<ipython-input-1-0f6d3514c078>\u001b[0m in \u001b[0;36m<cell line: 3>\u001b[0;34m()\u001b[0m\n\u001b[1;32m      1\u001b[0m \u001b[0;31m# Mount Google Drive\u001b[0m\u001b[0;34m\u001b[0m\u001b[0;34m\u001b[0m\u001b[0m\n\u001b[1;32m      2\u001b[0m \u001b[0;32mfrom\u001b[0m \u001b[0mgoogle\u001b[0m\u001b[0;34m.\u001b[0m\u001b[0mcolab\u001b[0m \u001b[0;32mimport\u001b[0m \u001b[0mdrive\u001b[0m\u001b[0;34m\u001b[0m\u001b[0;34m\u001b[0m\u001b[0m\n\u001b[0;32m----> 3\u001b[0;31m \u001b[0mdrive\u001b[0m\u001b[0;34m.\u001b[0m\u001b[0mmount\u001b[0m\u001b[0;34m(\u001b[0m\u001b[0;34m'/content/drive'\u001b[0m\u001b[0;34m)\u001b[0m\u001b[0;34m\u001b[0m\u001b[0;34m\u001b[0m\u001b[0m\n\u001b[0m",
            "\u001b[0;32m/usr/local/lib/python3.10/dist-packages/google/colab/drive.py\u001b[0m in \u001b[0;36mmount\u001b[0;34m(mountpoint, force_remount, timeout_ms, readonly)\u001b[0m\n\u001b[1;32m     98\u001b[0m \u001b[0;32mdef\u001b[0m \u001b[0mmount\u001b[0m\u001b[0;34m(\u001b[0m\u001b[0mmountpoint\u001b[0m\u001b[0;34m,\u001b[0m \u001b[0mforce_remount\u001b[0m\u001b[0;34m=\u001b[0m\u001b[0;32mFalse\u001b[0m\u001b[0;34m,\u001b[0m \u001b[0mtimeout_ms\u001b[0m\u001b[0;34m=\u001b[0m\u001b[0;36m120000\u001b[0m\u001b[0;34m,\u001b[0m \u001b[0mreadonly\u001b[0m\u001b[0;34m=\u001b[0m\u001b[0;32mFalse\u001b[0m\u001b[0;34m)\u001b[0m\u001b[0;34m:\u001b[0m\u001b[0;34m\u001b[0m\u001b[0;34m\u001b[0m\u001b[0m\n\u001b[1;32m     99\u001b[0m   \u001b[0;34m\"\"\"Mount your Google Drive at the specified mountpoint path.\"\"\"\u001b[0m\u001b[0;34m\u001b[0m\u001b[0;34m\u001b[0m\u001b[0m\n\u001b[0;32m--> 100\u001b[0;31m   return _mount(\n\u001b[0m\u001b[1;32m    101\u001b[0m       \u001b[0mmountpoint\u001b[0m\u001b[0;34m,\u001b[0m\u001b[0;34m\u001b[0m\u001b[0;34m\u001b[0m\u001b[0m\n\u001b[1;32m    102\u001b[0m       \u001b[0mforce_remount\u001b[0m\u001b[0;34m=\u001b[0m\u001b[0mforce_remount\u001b[0m\u001b[0;34m,\u001b[0m\u001b[0;34m\u001b[0m\u001b[0;34m\u001b[0m\u001b[0m\n",
            "\u001b[0;32m/usr/local/lib/python3.10/dist-packages/google/colab/drive.py\u001b[0m in \u001b[0;36m_mount\u001b[0;34m(mountpoint, force_remount, timeout_ms, ephemeral, readonly)\u001b[0m\n\u001b[1;32m    131\u001b[0m   )\n\u001b[1;32m    132\u001b[0m   \u001b[0;32mif\u001b[0m \u001b[0mephemeral\u001b[0m\u001b[0;34m:\u001b[0m\u001b[0;34m\u001b[0m\u001b[0;34m\u001b[0m\u001b[0m\n\u001b[0;32m--> 133\u001b[0;31m     _message.blocking_request(\n\u001b[0m\u001b[1;32m    134\u001b[0m         \u001b[0;34m'request_auth'\u001b[0m\u001b[0;34m,\u001b[0m\u001b[0;34m\u001b[0m\u001b[0;34m\u001b[0m\u001b[0m\n\u001b[1;32m    135\u001b[0m         \u001b[0mrequest\u001b[0m\u001b[0;34m=\u001b[0m\u001b[0;34m{\u001b[0m\u001b[0;34m'authType'\u001b[0m\u001b[0;34m:\u001b[0m \u001b[0;34m'dfs_ephemeral'\u001b[0m\u001b[0;34m}\u001b[0m\u001b[0;34m,\u001b[0m\u001b[0;34m\u001b[0m\u001b[0;34m\u001b[0m\u001b[0m\n",
            "\u001b[0;32m/usr/local/lib/python3.10/dist-packages/google/colab/_message.py\u001b[0m in \u001b[0;36mblocking_request\u001b[0;34m(request_type, request, timeout_sec, parent)\u001b[0m\n\u001b[1;32m    174\u001b[0m       \u001b[0mrequest_type\u001b[0m\u001b[0;34m,\u001b[0m \u001b[0mrequest\u001b[0m\u001b[0;34m,\u001b[0m \u001b[0mparent\u001b[0m\u001b[0;34m=\u001b[0m\u001b[0mparent\u001b[0m\u001b[0;34m,\u001b[0m \u001b[0mexpect_reply\u001b[0m\u001b[0;34m=\u001b[0m\u001b[0;32mTrue\u001b[0m\u001b[0;34m\u001b[0m\u001b[0;34m\u001b[0m\u001b[0m\n\u001b[1;32m    175\u001b[0m   )\n\u001b[0;32m--> 176\u001b[0;31m   \u001b[0;32mreturn\u001b[0m \u001b[0mread_reply_from_input\u001b[0m\u001b[0;34m(\u001b[0m\u001b[0mrequest_id\u001b[0m\u001b[0;34m,\u001b[0m \u001b[0mtimeout_sec\u001b[0m\u001b[0;34m)\u001b[0m\u001b[0;34m\u001b[0m\u001b[0;34m\u001b[0m\u001b[0m\n\u001b[0m",
            "\u001b[0;32m/usr/local/lib/python3.10/dist-packages/google/colab/_message.py\u001b[0m in \u001b[0;36mread_reply_from_input\u001b[0;34m(message_id, timeout_sec)\u001b[0m\n\u001b[1;32m    101\u001b[0m     ):\n\u001b[1;32m    102\u001b[0m       \u001b[0;32mif\u001b[0m \u001b[0;34m'error'\u001b[0m \u001b[0;32min\u001b[0m \u001b[0mreply\u001b[0m\u001b[0;34m:\u001b[0m\u001b[0;34m\u001b[0m\u001b[0;34m\u001b[0m\u001b[0m\n\u001b[0;32m--> 103\u001b[0;31m         \u001b[0;32mraise\u001b[0m \u001b[0mMessageError\u001b[0m\u001b[0;34m(\u001b[0m\u001b[0mreply\u001b[0m\u001b[0;34m[\u001b[0m\u001b[0;34m'error'\u001b[0m\u001b[0;34m]\u001b[0m\u001b[0;34m)\u001b[0m\u001b[0;34m\u001b[0m\u001b[0;34m\u001b[0m\u001b[0m\n\u001b[0m\u001b[1;32m    104\u001b[0m       \u001b[0;32mreturn\u001b[0m \u001b[0mreply\u001b[0m\u001b[0;34m.\u001b[0m\u001b[0mget\u001b[0m\u001b[0;34m(\u001b[0m\u001b[0;34m'data'\u001b[0m\u001b[0;34m,\u001b[0m \u001b[0;32mNone\u001b[0m\u001b[0;34m)\u001b[0m\u001b[0;34m\u001b[0m\u001b[0;34m\u001b[0m\u001b[0m\n\u001b[1;32m    105\u001b[0m \u001b[0;34m\u001b[0m\u001b[0m\n",
            "\u001b[0;31mMessageError\u001b[0m: Error: credential propagation was unsuccessful"
          ]
        }
      ]
    },
    {
      "cell_type": "code",
      "source": [
        "%cd /content/drive/MyDrive/"
      ],
      "metadata": {
        "colab": {
          "base_uri": "https://localhost:8080/"
        },
        "id": "6STr5lGE9sFd",
        "outputId": "4ef7ea93-85d6-4e3c-e4f0-c549977fb627"
      },
      "execution_count": 1,
      "outputs": [
        {
          "output_type": "stream",
          "name": "stdout",
          "text": [
            "/content/drive/MyDrive\n"
          ]
        }
      ]
    },
    {
      "cell_type": "code",
      "execution_count": 2,
      "metadata": {
        "colab": {
          "base_uri": "https://localhost:8080/"
        },
        "id": "YoUfTX4x9MPW",
        "outputId": "2e9a5eba-81c3-487a-8037-55cc8a7680ac"
      },
      "outputs": [
        {
          "output_type": "stream",
          "name": "stdout",
          "text": [
            "Requirement already satisfied: birdnetlib in /usr/local/lib/python3.10/dist-packages (0.17.2)\n",
            "Requirement already satisfied: matplotlib>=3.5.3 in /usr/local/lib/python3.10/dist-packages (from birdnetlib) (3.7.1)\n",
            "Requirement already satisfied: pydub==0.25.1 in /usr/local/lib/python3.10/dist-packages (from birdnetlib) (0.25.1)\n",
            "Requirement already satisfied: requests>=2.28.1 in /usr/local/lib/python3.10/dist-packages (from birdnetlib) (2.31.0)\n",
            "Requirement already satisfied: watchdog==2.1.9 in /usr/local/lib/python3.10/dist-packages (from birdnetlib) (2.1.9)\n",
            "Requirement already satisfied: contourpy>=1.0.1 in /usr/local/lib/python3.10/dist-packages (from matplotlib>=3.5.3->birdnetlib) (1.2.1)\n",
            "Requirement already satisfied: cycler>=0.10 in /usr/local/lib/python3.10/dist-packages (from matplotlib>=3.5.3->birdnetlib) (0.12.1)\n",
            "Requirement already satisfied: fonttools>=4.22.0 in /usr/local/lib/python3.10/dist-packages (from matplotlib>=3.5.3->birdnetlib) (4.53.0)\n",
            "Requirement already satisfied: kiwisolver>=1.0.1 in /usr/local/lib/python3.10/dist-packages (from matplotlib>=3.5.3->birdnetlib) (1.4.5)\n",
            "Requirement already satisfied: numpy>=1.20 in /usr/local/lib/python3.10/dist-packages (from matplotlib>=3.5.3->birdnetlib) (1.25.2)\n",
            "Requirement already satisfied: packaging>=20.0 in /usr/local/lib/python3.10/dist-packages (from matplotlib>=3.5.3->birdnetlib) (24.1)\n",
            "Requirement already satisfied: pillow>=6.2.0 in /usr/local/lib/python3.10/dist-packages (from matplotlib>=3.5.3->birdnetlib) (9.4.0)\n",
            "Requirement already satisfied: pyparsing>=2.3.1 in /usr/local/lib/python3.10/dist-packages (from matplotlib>=3.5.3->birdnetlib) (3.1.2)\n",
            "Requirement already satisfied: python-dateutil>=2.7 in /usr/local/lib/python3.10/dist-packages (from matplotlib>=3.5.3->birdnetlib) (2.8.2)\n",
            "Requirement already satisfied: charset-normalizer<4,>=2 in /usr/local/lib/python3.10/dist-packages (from requests>=2.28.1->birdnetlib) (3.3.2)\n",
            "Requirement already satisfied: idna<4,>=2.5 in /usr/local/lib/python3.10/dist-packages (from requests>=2.28.1->birdnetlib) (3.7)\n",
            "Requirement already satisfied: urllib3<3,>=1.21.1 in /usr/local/lib/python3.10/dist-packages (from requests>=2.28.1->birdnetlib) (2.0.7)\n",
            "Requirement already satisfied: certifi>=2017.4.17 in /usr/local/lib/python3.10/dist-packages (from requests>=2.28.1->birdnetlib) (2024.6.2)\n",
            "Requirement already satisfied: six>=1.5 in /usr/local/lib/python3.10/dist-packages (from python-dateutil>=2.7->matplotlib>=3.5.3->birdnetlib) (1.16.0)\n",
            "Requirement already satisfied: tflite-runtime in /usr/local/lib/python3.10/dist-packages (2.14.0)\n",
            "Requirement already satisfied: numpy>=1.23.2 in /usr/local/lib/python3.10/dist-packages (from tflite-runtime) (1.25.2)\n",
            "Requirement already satisfied: resampy in /usr/local/lib/python3.10/dist-packages (0.4.3)\n",
            "Requirement already satisfied: numpy>=1.17 in /usr/local/lib/python3.10/dist-packages (from resampy) (1.25.2)\n",
            "Requirement already satisfied: numba>=0.53 in /usr/local/lib/python3.10/dist-packages (from resampy) (0.58.1)\n",
            "Requirement already satisfied: llvmlite<0.42,>=0.41.0dev0 in /usr/local/lib/python3.10/dist-packages (from numba>=0.53->resampy) (0.41.1)\n",
            "Requirement already satisfied: ffmpeg in /usr/local/lib/python3.10/dist-packages (1.4)\n"
          ]
        }
      ],
      "source": [
        "!pip3 install birdnetlib\n",
        "!pip3 install tflite-runtime\n",
        "!pip3 install resampy\n",
        "!pip3 install ffmpeg"
      ]
    },
    {
      "cell_type": "code",
      "source": [
        "# Verify that all required libraries are installed\n",
        "try:\n",
        "    import resampy\n",
        "    import birdnetlib\n",
        "    import tflite_runtime\n",
        "    import ffmpeg\n",
        "    import os\n",
        "    import random\n",
        "    import time\n",
        "    import pandas as pd\n",
        "    import seaborn as sns\n",
        "    import matplotlib.pyplot as plt\n",
        "    import scipy as sc\n",
        "    print(\"All required libraries are installed and available.\")\n",
        "except ImportError as e:\n",
        "    print(f\"Library installation issue: {e}\")"
      ],
      "metadata": {
        "colab": {
          "base_uri": "https://localhost:8080/"
        },
        "id": "ue-RsKMmISyR",
        "outputId": "cb015c82-fb27-4f74-98bc-91448e2efc40"
      },
      "execution_count": 16,
      "outputs": [
        {
          "output_type": "stream",
          "name": "stdout",
          "text": [
            "All required libraries are installed and available.\n"
          ]
        }
      ]
    },
    {
      "cell_type": "code",
      "source": [
        "from birdnetlib import Recording\n",
        "from birdnetlib.analyzer import Analyzer\n",
        "from datetime import datetime\n",
        "from scipy.stats import f_oneway"
      ],
      "metadata": {
        "id": "PUFdodEa9PpK"
      },
      "execution_count": 17,
      "outputs": []
    },
    {
      "cell_type": "code",
      "source": [
        "# get data\n",
        "base_data_dir = '/content/drive/MyDrive/HAUtrans/'\n",
        "\n",
        "# Transect directories\n",
        "transects = ['Trans5', 'Trans6', 'Trans7', 'Trans8']"
      ],
      "metadata": {
        "id": "9ke3hNq79dxN"
      },
      "execution_count": 6,
      "outputs": []
    },
    {
      "cell_type": "code",
      "source": [
        "# Function to filter files past 5am and randomly select three\n",
        "def select_files_from_transect(transect):\n",
        "    data_dir = os.path.join(base_data_dir, transect)\n",
        "    print(f\"Checking directory: {data_dir}\")\n",
        "\n",
        "    # Verify that the directory exists\n",
        "    if not os.path.exists(data_dir):\n",
        "        print(f\"Directory does not exist: {data_dir}\")\n",
        "        return []\n",
        "\n",
        "    all_files = [f for f in os.listdir(data_dir) if os.path.isfile(os.path.join(data_dir, f))]\n",
        "    print(f\"All files in {transect}: {all_files}\")\n",
        "\n",
        "    # Filter the files to include only those ending with a suffix above 050000\n",
        "    filtered_files = [f for f in all_files if f.split('_')[-1].endswith('.wav') and int(f.split('_')[-1].split('.')[0]) > 50000]\n",
        "\n",
        "    # Print the filtered files\n",
        "    print(f\"Filtered files in {transect}: {filtered_files}\")\n",
        "\n",
        "    # Check if there are enough files to sample\n",
        "    if len(filtered_files) < 3:\n",
        "        print(f\"Not enough files to sample in {transect}. Needed 3, found {len(filtered_files)}.\")\n",
        "        return filtered_files\n",
        "\n",
        "    # Randomly select three files from the filtered list\n",
        "    selected_files = random.sample(filtered_files, 3)\n",
        "\n",
        "    # Print the selected files\n",
        "    print(f\"Selected files in {transect}: {selected_files}\")\n",
        "\n",
        "    return selected_files"
      ],
      "metadata": {
        "id": "_tEf2l5MK86H"
      },
      "execution_count": 7,
      "outputs": []
    },
    {
      "cell_type": "code",
      "source": [
        "# Loop through each transect and select files\n",
        "selected_files_all_transects = []\n",
        "for transect in transects:\n",
        "    selected_files = select_files_from_transect(transect)\n",
        "    selected_files_all_transects.extend(selected_files)"
      ],
      "metadata": {
        "id": "LCkH-u43Gjp3",
        "outputId": "8ef06916-5f25-4d0c-d6ab-44a56792a04a",
        "colab": {
          "base_uri": "https://localhost:8080/"
        }
      },
      "execution_count": 8,
      "outputs": [
        {
          "output_type": "stream",
          "name": "stdout",
          "text": [
            "Checking directory: /content/drive/MyDrive/HAUtrans/Trans5\n",
            "All files in Trans5: ['ED3_20240502_040000.wav', 'ED3_20240502_050000.wav', 'ED3_20240502_060000.wav', 'ED3_20240502_070000.wav', 'ED3_20240502_080000.wav', 'ED3_20240502_090000.wav', 'ED3_20240503_040000.wav', 'ED3_20240503_050000.wav', 'ED3_20240503_060000.wav', 'ED3_20240503_070000.wav', 'ED3_20240503_080000.wav', 'ED3_20240503_090000.wav', 'ED3_20240504_040000.wav', 'ED3_20240504_050000.wav', 'ED3_20240504_060000.wav', 'ED3_20240504_070000.wav', 'ED3_20240504_080000.wav', 'ED3_20240504_090000.wav', 'ED3_20240505_040000.wav', 'ED3_20240505_050000.wav', 'ED3_20240505_060000.wav', 'ED3_20240505_070000.wav', 'ED3_20240505_080000.wav', 'ED3_20240505_090000.wav', 'ED3_20240506_040000.wav', 'ED3_20240506_050000.wav', 'ED3_20240506_060000.wav', 'ED3_20240506_070000.wav', 'ED3_20240506_080000.wav', 'ED3_20240506_090000.wav', 'ED3_20240507_040000.wav', 'ED3_20240507_050000.wav', 'ED3_20240507_060000.wav', 'ED3_20240507_070000.wav', 'ED3_20240507_080000.wav', 'ED3_20240507_090000.wav', 'ED3_20240508_040000.wav', 'ED3_20240508_050000.wav', 'ED3_20240508_060000.wav', 'ED3_20240508_070000.wav', 'ED3_20240508_080000.wav', 'ED3_20240508_090000.wav', 'ED3_20240509_040000.wav', 'ED3_20240509_050000.wav', 'ED3_20240509_060000.wav', 'ED3_20240509_070000.wav', 'ED3_20240509_080000.wav', 'ED3_20240509_090000.wav', 'ED3_20240510_040000.wav', 'ED3_20240510_050000.wav', 'ED3_20240510_060000.wav', 'ED3_20240510_070000.wav', 'ED3_20240510_080000.wav', 'ED3_20240510_090000.wav']\n",
            "Filtered files in Trans5: ['ED3_20240502_060000.wav', 'ED3_20240502_070000.wav', 'ED3_20240502_080000.wav', 'ED3_20240502_090000.wav', 'ED3_20240503_060000.wav', 'ED3_20240503_070000.wav', 'ED3_20240503_080000.wav', 'ED3_20240503_090000.wav', 'ED3_20240504_060000.wav', 'ED3_20240504_070000.wav', 'ED3_20240504_080000.wav', 'ED3_20240504_090000.wav', 'ED3_20240505_060000.wav', 'ED3_20240505_070000.wav', 'ED3_20240505_080000.wav', 'ED3_20240505_090000.wav', 'ED3_20240506_060000.wav', 'ED3_20240506_070000.wav', 'ED3_20240506_080000.wav', 'ED3_20240506_090000.wav', 'ED3_20240507_060000.wav', 'ED3_20240507_070000.wav', 'ED3_20240507_080000.wav', 'ED3_20240507_090000.wav', 'ED3_20240508_060000.wav', 'ED3_20240508_070000.wav', 'ED3_20240508_080000.wav', 'ED3_20240508_090000.wav', 'ED3_20240509_060000.wav', 'ED3_20240509_070000.wav', 'ED3_20240509_080000.wav', 'ED3_20240509_090000.wav', 'ED3_20240510_060000.wav', 'ED3_20240510_070000.wav', 'ED3_20240510_080000.wav', 'ED3_20240510_090000.wav']\n",
            "Selected files in Trans5: ['ED3_20240504_060000.wav', 'ED3_20240507_060000.wav', 'ED3_20240507_080000.wav']\n",
            "Checking directory: /content/drive/MyDrive/HAUtrans/Trans6\n",
            "All files in Trans6: ['ED4_20240502_040000.wav', 'ED4_20240502_050000.wav', 'ED4_20240502_060000.wav', 'ED4_20240502_070000.wav', 'ED4_20240502_080000.wav', 'ED4_20240502_090000.wav', 'ED4_20240503_040000.wav', 'ED4_20240503_050000.wav', 'ED4_20240503_060000.wav', 'ED4_20240503_070000.wav', 'ED4_20240503_080000.wav', 'ED4_20240503_090000.wav', 'ED4_20240504_040000.wav', 'ED4_20240504_050000.wav', 'ED4_20240504_060000.wav', 'ED4_20240504_070000.wav', 'ED4_20240504_080000.wav', 'ED4_20240504_090000.wav', 'ED4_20240505_040000.wav', 'ED4_20240505_050000.wav', 'ED4_20240505_060000.wav', 'ED4_20240505_070000.wav', 'ED4_20240505_080000.wav', 'ED4_20240505_090000.wav', 'ED4_20240506_040000.wav', 'ED4_20240506_050000.wav', 'ED4_20240506_060000.wav', 'ED4_20240506_070000.wav', 'ED4_20240506_080000.wav', 'ED4_20240506_090000.wav', 'ED4_20240507_040000.wav', 'ED4_20240507_050000.wav', 'ED4_20240507_060000.wav', 'ED4_20240507_070000.wav', 'ED4_20240507_080000.wav', 'ED4_20240507_090000.wav', 'ED4_20240508_040000.wav', 'ED4_20240508_050000.wav', 'ED4_20240508_060000.wav', 'ED4_20240508_070000.wav', 'ED4_20240508_080000.wav', 'ED4_20240508_090000.wav', 'ED4_20240509_040000.wav', 'ED4_20240509_050000.wav', 'ED4_20240509_060000.wav', 'ED4_20240509_070000.wav', 'ED4_20240509_080000.wav', 'ED4_20240509_090000.wav', 'ED4_20240510_040000.wav', 'ED4_20240510_050000.wav', 'ED4_20240510_060000.wav', 'ED4_20240510_070000.wav', 'ED4_20240510_080000.wav', 'ED4_20240510_090000.wav']\n",
            "Filtered files in Trans6: ['ED4_20240502_060000.wav', 'ED4_20240502_070000.wav', 'ED4_20240502_080000.wav', 'ED4_20240502_090000.wav', 'ED4_20240503_060000.wav', 'ED4_20240503_070000.wav', 'ED4_20240503_080000.wav', 'ED4_20240503_090000.wav', 'ED4_20240504_060000.wav', 'ED4_20240504_070000.wav', 'ED4_20240504_080000.wav', 'ED4_20240504_090000.wav', 'ED4_20240505_060000.wav', 'ED4_20240505_070000.wav', 'ED4_20240505_080000.wav', 'ED4_20240505_090000.wav', 'ED4_20240506_060000.wav', 'ED4_20240506_070000.wav', 'ED4_20240506_080000.wav', 'ED4_20240506_090000.wav', 'ED4_20240507_060000.wav', 'ED4_20240507_070000.wav', 'ED4_20240507_080000.wav', 'ED4_20240507_090000.wav', 'ED4_20240508_060000.wav', 'ED4_20240508_070000.wav', 'ED4_20240508_080000.wav', 'ED4_20240508_090000.wav', 'ED4_20240509_060000.wav', 'ED4_20240509_070000.wav', 'ED4_20240509_080000.wav', 'ED4_20240509_090000.wav', 'ED4_20240510_060000.wav', 'ED4_20240510_070000.wav', 'ED4_20240510_080000.wav', 'ED4_20240510_090000.wav']\n",
            "Selected files in Trans6: ['ED4_20240506_080000.wav', 'ED4_20240507_070000.wav', 'ED4_20240509_090000.wav']\n",
            "Checking directory: /content/drive/MyDrive/HAUtrans/Trans7\n",
            "All files in Trans7: ['ED1_20240502_040000.wav', 'ED1_20240502_050000.wav', 'ED1_20240502_060000.wav', 'ED1_20240502_070000.wav', 'ED1_20240502_080000.wav', 'ED1_20240502_090000.wav', 'ED1_20240503_040000.wav', 'ED1_20240503_050000.wav', 'ED1_20240503_060000.wav', 'ED1_20240503_070000.wav', 'ED1_20240503_080000.wav', 'ED1_20240503_090000.wav', 'ED1_20240504_040000.wav', 'ED1_20240504_050000.wav', 'ED1_20240504_060000.wav', 'ED1_20240504_070000.wav', 'ED1_20240504_080000.wav', 'ED1_20240504_090000.wav', 'ED1_20240505_040000.wav', 'ED1_20240505_050000.wav', 'ED1_20240505_060000.wav', 'ED1_20240505_070000.wav', 'ED1_20240505_080000.wav', 'ED1_20240505_090000.wav', 'ED1_20240506_040000.wav', 'ED1_20240506_050000.wav', 'ED1_20240506_060000.wav', 'ED1_20240506_070000.wav', 'ED1_20240506_080000.wav', 'ED1_20240506_090000.wav', 'ED1_20240507_040000.wav', 'ED1_20240507_050000.wav', 'ED1_20240507_060000.wav', 'ED1_20240507_070000.wav', 'ED1_20240507_080000.wav', 'ED1_20240507_090000.wav', 'ED1_20240508_040000.wav', 'ED1_20240508_050000.wav', 'ED1_20240508_060000.wav', 'ED1_20240508_070000.wav', 'ED1_20240508_080000.wav', 'ED1_20240508_090000.wav', 'ED1_20240509_040000.wav', 'ED1_20240509_050000.wav', 'ED1_20240509_060000.wav', 'ED1_20240509_070000.wav', 'ED1_20240509_080000.wav', 'ED1_20240509_090000.wav', 'ED1_20240510_040000.wav', 'ED1_20240510_050000.wav', 'ED1_20240510_060000.wav', 'ED1_20240510_070000.wav', 'ED1_20240510_080000.wav', 'ED1_20240510_090000.wav']\n",
            "Filtered files in Trans7: ['ED1_20240502_060000.wav', 'ED1_20240502_070000.wav', 'ED1_20240502_080000.wav', 'ED1_20240502_090000.wav', 'ED1_20240503_060000.wav', 'ED1_20240503_070000.wav', 'ED1_20240503_080000.wav', 'ED1_20240503_090000.wav', 'ED1_20240504_060000.wav', 'ED1_20240504_070000.wav', 'ED1_20240504_080000.wav', 'ED1_20240504_090000.wav', 'ED1_20240505_060000.wav', 'ED1_20240505_070000.wav', 'ED1_20240505_080000.wav', 'ED1_20240505_090000.wav', 'ED1_20240506_060000.wav', 'ED1_20240506_070000.wav', 'ED1_20240506_080000.wav', 'ED1_20240506_090000.wav', 'ED1_20240507_060000.wav', 'ED1_20240507_070000.wav', 'ED1_20240507_080000.wav', 'ED1_20240507_090000.wav', 'ED1_20240508_060000.wav', 'ED1_20240508_070000.wav', 'ED1_20240508_080000.wav', 'ED1_20240508_090000.wav', 'ED1_20240509_060000.wav', 'ED1_20240509_070000.wav', 'ED1_20240509_080000.wav', 'ED1_20240509_090000.wav', 'ED1_20240510_060000.wav', 'ED1_20240510_070000.wav', 'ED1_20240510_080000.wav', 'ED1_20240510_090000.wav']\n",
            "Selected files in Trans7: ['ED1_20240504_080000.wav', 'ED1_20240502_060000.wav', 'ED1_20240509_060000.wav']\n",
            "Checking directory: /content/drive/MyDrive/HAUtrans/Trans8\n",
            "All files in Trans8: ['ED2_20240502_040000.wav', 'ED2_20240502_050000.wav', 'ED2_20240502_060000.wav', 'ED2_20240502_070000.wav', 'ED2_20240502_080000.wav', 'ED2_20240502_090000.wav', 'ED2_20240503_040000.wav', 'ED2_20240503_050000.wav', 'ED2_20240503_060000.wav', 'ED2_20240503_070000.wav', 'ED2_20240503_080000.wav', 'ED2_20240503_090000.wav', 'ED2_20240504_040000.wav', 'ED2_20240504_050000.wav', 'ED2_20240504_060000.wav', 'ED2_20240504_070000.wav', 'ED2_20240504_080000.wav', 'ED2_20240504_090000.wav', 'ED2_20240505_040000.wav', 'ED2_20240505_050000.wav', 'ED2_20240505_060000.wav', 'ED2_20240505_070000.wav', 'ED2_20240505_080000.wav', 'ED2_20240505_090000.wav', 'ED2_20240506_040000.wav', 'ED2_20240506_050000.wav', 'ED2_20240506_060000.wav', 'ED2_20240506_070000.wav', 'ED2_20240506_080000.wav', 'ED2_20240506_090000.wav', 'ED2_20240507_040000.wav', 'ED2_20240507_050000.wav', 'ED2_20240507_060000.wav', 'ED2_20240507_070000.wav', 'ED2_20240507_080000.wav', 'ED2_20240507_090000.wav', 'ED2_20240508_040000.wav', 'ED2_20240508_050000.wav', 'ED2_20240508_060000.wav', 'ED2_20240508_070000.wav', 'ED2_20240508_080000.wav', 'ED2_20240508_090000.wav', 'ED2_20240509_040000.wav', 'ED2_20240509_050000.wav', 'ED2_20240509_060000.wav', 'ED2_20240509_070000.wav', 'ED2_20240509_080000.wav', 'ED2_20240509_090000.wav', 'ED2_20240510_040000.wav', 'ED2_20240510_050000.wav', 'ED2_20240510_060000.wav', 'ED2_20240510_070000.wav', 'ED2_20240510_080000.wav', 'ED2_20240510_090000.wav']\n",
            "Filtered files in Trans8: ['ED2_20240502_060000.wav', 'ED2_20240502_070000.wav', 'ED2_20240502_080000.wav', 'ED2_20240502_090000.wav', 'ED2_20240503_060000.wav', 'ED2_20240503_070000.wav', 'ED2_20240503_080000.wav', 'ED2_20240503_090000.wav', 'ED2_20240504_060000.wav', 'ED2_20240504_070000.wav', 'ED2_20240504_080000.wav', 'ED2_20240504_090000.wav', 'ED2_20240505_060000.wav', 'ED2_20240505_070000.wav', 'ED2_20240505_080000.wav', 'ED2_20240505_090000.wav', 'ED2_20240506_060000.wav', 'ED2_20240506_070000.wav', 'ED2_20240506_080000.wav', 'ED2_20240506_090000.wav', 'ED2_20240507_060000.wav', 'ED2_20240507_070000.wav', 'ED2_20240507_080000.wav', 'ED2_20240507_090000.wav', 'ED2_20240508_060000.wav', 'ED2_20240508_070000.wav', 'ED2_20240508_080000.wav', 'ED2_20240508_090000.wav', 'ED2_20240509_060000.wav', 'ED2_20240509_070000.wav', 'ED2_20240509_080000.wav', 'ED2_20240509_090000.wav', 'ED2_20240510_060000.wav', 'ED2_20240510_070000.wav', 'ED2_20240510_080000.wav', 'ED2_20240510_090000.wav']\n",
            "Selected files in Trans8: ['ED2_20240506_080000.wav', 'ED2_20240507_060000.wav', 'ED2_20240502_060000.wav']\n"
          ]
        }
      ]
    },
    {
      "cell_type": "code",
      "source": [
        "print(\"All selected files from all transects:\")\n",
        "print(selected_files_all_transects)"
      ],
      "metadata": {
        "id": "877hoEWvHuAu",
        "outputId": "78756c0b-3b3e-45c0-9dbe-6d7877957db7",
        "colab": {
          "base_uri": "https://localhost:8080/"
        }
      },
      "execution_count": 9,
      "outputs": [
        {
          "output_type": "stream",
          "name": "stdout",
          "text": [
            "All selected files from all transects:\n",
            "['ED3_20240504_060000.wav', 'ED3_20240507_060000.wav', 'ED3_20240507_080000.wav', 'ED4_20240506_080000.wav', 'ED4_20240507_070000.wav', 'ED4_20240509_090000.wav', 'ED1_20240504_080000.wav', 'ED1_20240502_060000.wav', 'ED1_20240509_060000.wav', 'ED2_20240506_080000.wav', 'ED2_20240507_060000.wav', 'ED2_20240502_060000.wav']\n"
          ]
        }
      ]
    },
    {
      "cell_type": "code",
      "source": [
        "# This cell uses BirdNET-Analyzer to analyze multiple recordings.\n",
        "# Load and initialize the BirdNET-Analyzer models.\n",
        "analyzer = Analyzer()\n",
        "\n",
        "testamp = [52.911,-2.4441] # near Market Drayton year=2024, month=4, day=20\n",
        "recording_date = datetime(year=2024, month=5, day=5)"
      ],
      "metadata": {
        "colab": {
          "base_uri": "https://localhost:8080/"
        },
        "id": "ZDJ6voT6KQ8k",
        "outputId": "eb18f250-f855-41c9-9e9b-0f2b76b8f207"
      },
      "execution_count": 10,
      "outputs": [
        {
          "output_type": "stream",
          "name": "stdout",
          "text": [
            "Labels loaded.\n",
            "load model True\n",
            "Model loaded.\n",
            "Labels loaded.\n",
            "load_species_list_model\n",
            "Meta model loaded.\n"
          ]
        }
      ]
    },
    {
      "cell_type": "code",
      "source": [
        "# Create a dictionary to store the results\n",
        "filtered_results  = {}\n",
        "\n",
        "# Initialise a dictionary to store time taken for each file\n",
        "time_taken = {file_name: [] for file_name in selected_files_all_transects}"
      ],
      "metadata": {
        "id": "_7EBEVnnKUYA"
      },
      "execution_count": 11,
      "outputs": []
    },
    {
      "cell_type": "code",
      "source": [
        "# Function to analyze a file and record time taken\n",
        "def analyze_and_time(file_name):\n",
        "    try:\n",
        "        start_time = time.time()\n",
        "\n",
        "        # Include the correct path to the data files\n",
        "        for transect in transects:\n",
        "            data_dir = os.path.join(base_data_dir, transect)\n",
        "            file_path = os.path.join(data_dir, file_name)\n",
        "            if os.path.exists(file_path):\n",
        "                break\n",
        "\n",
        "        if file_path == \"\":\n",
        "            print(f\"File {file_name} not found in any transect directories.\")\n",
        "            return\n",
        "\n",
        "        recording = Recording(\n",
        "            analyzer,\n",
        "            file_path,  # path to the recording file\n",
        "            lat=testamp[0],  # latitude of the recording location\n",
        "            lon=testamp[1],  # longitude of the recording location\n",
        "            date=recording_date,  # use the predefined date\n",
        "            min_conf=0.25,\n",
        "        )\n",
        "        # Analyze the recording and store the result in the dictionary\n",
        "        recording.analyze()\n",
        "        filtered_results[file_name] = recording.detections\n",
        "\n",
        "        end_time = time.time()\n",
        "        duration = end_time - start_time\n",
        "        time_taken[file_name].append(duration)\n",
        "        print(f\"Completed analysis for {file_name} in {duration} seconds\")\n",
        "    except Exception as e:\n",
        "        print(f\"Error processing {file_name}: {e}\")"
      ],
      "metadata": {
        "id": "42q5ytUVRxE5"
      },
      "execution_count": 12,
      "outputs": []
    },
    {
      "cell_type": "code",
      "source": [
        "# Run the analysis twice for each selected file\n",
        "for _ in range(3):\n",
        "    for file_name in selected_files_all_transects:\n",
        "        analyze_and_time(file_name)"
      ],
      "metadata": {
        "colab": {
          "base_uri": "https://localhost:8080/"
        },
        "id": "oR7KdEPPR1VG",
        "outputId": "fc325443-d6c1-47d5-9822-1303ac666634"
      },
      "execution_count": 13,
      "outputs": [
        {
          "output_type": "stream",
          "name": "stdout",
          "text": [
            "read_audio_data\n",
            "read_audio_data: complete, read  600 chunks.\n",
            "analyze_recording ED3_20240504_060000.wav\n",
            "recording has lon/lat\n",
            "set_predicted_species_list_from_position\n",
            "return_predicted_species_list\n",
            "17\n",
            "138 species loaded.\n",
            "Completed analysis for ED3_20240504_060000.wav in 148.26567888259888 seconds\n",
            "read_audio_data\n",
            "read_audio_data: complete, read  600 chunks.\n",
            "analyze_recording ED3_20240507_060000.wav\n",
            "recording has lon/lat\n",
            "set_predicted_species_list_from_position\n",
            "Completed analysis for ED3_20240507_060000.wav in 135.44273924827576 seconds\n",
            "read_audio_data\n",
            "read_audio_data: complete, read  600 chunks.\n",
            "analyze_recording ED3_20240507_080000.wav\n",
            "recording has lon/lat\n",
            "set_predicted_species_list_from_position\n",
            "Completed analysis for ED3_20240507_080000.wav in 132.7655291557312 seconds\n",
            "read_audio_data\n",
            "read_audio_data: complete, read  600 chunks.\n",
            "analyze_recording ED4_20240506_080000.wav\n",
            "recording has lon/lat\n",
            "set_predicted_species_list_from_position\n",
            "Completed analysis for ED4_20240506_080000.wav in 134.55523228645325 seconds\n",
            "read_audio_data\n",
            "read_audio_data: complete, read  600 chunks.\n",
            "analyze_recording ED4_20240507_070000.wav\n",
            "recording has lon/lat\n",
            "set_predicted_species_list_from_position\n",
            "Completed analysis for ED4_20240507_070000.wav in 133.07267451286316 seconds\n",
            "read_audio_data\n",
            "read_audio_data: complete, read  600 chunks.\n",
            "analyze_recording ED4_20240509_090000.wav\n",
            "recording has lon/lat\n",
            "set_predicted_species_list_from_position\n",
            "Completed analysis for ED4_20240509_090000.wav in 136.04011631011963 seconds\n",
            "read_audio_data\n",
            "read_audio_data: complete, read  600 chunks.\n",
            "analyze_recording ED1_20240504_080000.wav\n",
            "recording has lon/lat\n",
            "set_predicted_species_list_from_position\n",
            "Completed analysis for ED1_20240504_080000.wav in 132.42154240608215 seconds\n",
            "read_audio_data\n",
            "read_audio_data: complete, read  600 chunks.\n",
            "analyze_recording ED1_20240502_060000.wav\n",
            "recording has lon/lat\n",
            "set_predicted_species_list_from_position\n",
            "Completed analysis for ED1_20240502_060000.wav in 134.03174543380737 seconds\n",
            "read_audio_data\n",
            "read_audio_data: complete, read  600 chunks.\n",
            "analyze_recording ED1_20240509_060000.wav\n",
            "recording has lon/lat\n",
            "set_predicted_species_list_from_position\n",
            "Completed analysis for ED1_20240509_060000.wav in 133.2044644355774 seconds\n",
            "read_audio_data\n",
            "read_audio_data: complete, read  600 chunks.\n",
            "analyze_recording ED2_20240506_080000.wav\n",
            "recording has lon/lat\n",
            "set_predicted_species_list_from_position\n",
            "Completed analysis for ED2_20240506_080000.wav in 134.92906951904297 seconds\n",
            "read_audio_data\n",
            "read_audio_data: complete, read  600 chunks.\n",
            "analyze_recording ED2_20240507_060000.wav\n",
            "recording has lon/lat\n",
            "set_predicted_species_list_from_position\n",
            "Completed analysis for ED2_20240507_060000.wav in 133.40657448768616 seconds\n",
            "read_audio_data\n",
            "read_audio_data: complete, read  600 chunks.\n",
            "analyze_recording ED2_20240502_060000.wav\n",
            "recording has lon/lat\n",
            "set_predicted_species_list_from_position\n",
            "Completed analysis for ED2_20240502_060000.wav in 134.09416151046753 seconds\n",
            "read_audio_data\n",
            "read_audio_data: complete, read  600 chunks.\n",
            "analyze_recording ED3_20240504_060000.wav\n",
            "recording has lon/lat\n",
            "set_predicted_species_list_from_position\n",
            "Completed analysis for ED3_20240504_060000.wav in 131.3175413608551 seconds\n",
            "read_audio_data\n",
            "read_audio_data: complete, read  600 chunks.\n",
            "analyze_recording ED3_20240507_060000.wav\n",
            "recording has lon/lat\n",
            "set_predicted_species_list_from_position\n",
            "Completed analysis for ED3_20240507_060000.wav in 132.589524269104 seconds\n",
            "read_audio_data\n",
            "read_audio_data: complete, read  600 chunks.\n",
            "analyze_recording ED3_20240507_080000.wav\n",
            "recording has lon/lat\n",
            "set_predicted_species_list_from_position\n",
            "Completed analysis for ED3_20240507_080000.wav in 130.96111297607422 seconds\n",
            "read_audio_data\n",
            "read_audio_data: complete, read  600 chunks.\n",
            "analyze_recording ED4_20240506_080000.wav\n",
            "recording has lon/lat\n",
            "set_predicted_species_list_from_position\n",
            "Completed analysis for ED4_20240506_080000.wav in 131.93665766716003 seconds\n",
            "read_audio_data\n",
            "read_audio_data: complete, read  600 chunks.\n",
            "analyze_recording ED4_20240507_070000.wav\n",
            "recording has lon/lat\n",
            "set_predicted_species_list_from_position\n",
            "Completed analysis for ED4_20240507_070000.wav in 131.65339422225952 seconds\n",
            "read_audio_data\n",
            "read_audio_data: complete, read  600 chunks.\n",
            "analyze_recording ED4_20240509_090000.wav\n",
            "recording has lon/lat\n",
            "set_predicted_species_list_from_position\n",
            "Completed analysis for ED4_20240509_090000.wav in 130.6758518218994 seconds\n",
            "read_audio_data\n",
            "read_audio_data: complete, read  600 chunks.\n",
            "analyze_recording ED1_20240504_080000.wav\n",
            "recording has lon/lat\n",
            "set_predicted_species_list_from_position\n",
            "Completed analysis for ED1_20240504_080000.wav in 132.48319792747498 seconds\n",
            "read_audio_data\n",
            "read_audio_data: complete, read  600 chunks.\n",
            "analyze_recording ED1_20240502_060000.wav\n",
            "recording has lon/lat\n",
            "set_predicted_species_list_from_position\n",
            "Completed analysis for ED1_20240502_060000.wav in 131.08203983306885 seconds\n",
            "read_audio_data\n",
            "read_audio_data: complete, read  600 chunks.\n",
            "analyze_recording ED1_20240509_060000.wav\n",
            "recording has lon/lat\n",
            "set_predicted_species_list_from_position\n",
            "Completed analysis for ED1_20240509_060000.wav in 130.86867833137512 seconds\n",
            "read_audio_data\n",
            "read_audio_data: complete, read  600 chunks.\n",
            "analyze_recording ED2_20240506_080000.wav\n",
            "recording has lon/lat\n",
            "set_predicted_species_list_from_position\n",
            "Completed analysis for ED2_20240506_080000.wav in 132.47607445716858 seconds\n",
            "read_audio_data\n",
            "read_audio_data: complete, read  600 chunks.\n",
            "analyze_recording ED2_20240507_060000.wav\n",
            "recording has lon/lat\n",
            "set_predicted_species_list_from_position\n",
            "Completed analysis for ED2_20240507_060000.wav in 130.94219160079956 seconds\n",
            "read_audio_data\n",
            "read_audio_data: complete, read  600 chunks.\n",
            "analyze_recording ED2_20240502_060000.wav\n",
            "recording has lon/lat\n",
            "set_predicted_species_list_from_position\n",
            "Completed analysis for ED2_20240502_060000.wav in 131.09309935569763 seconds\n",
            "read_audio_data\n",
            "read_audio_data: complete, read  600 chunks.\n",
            "analyze_recording ED3_20240504_060000.wav\n",
            "recording has lon/lat\n",
            "set_predicted_species_list_from_position\n",
            "Completed analysis for ED3_20240504_060000.wav in 131.81006503105164 seconds\n",
            "read_audio_data\n",
            "read_audio_data: complete, read  600 chunks.\n",
            "analyze_recording ED3_20240507_060000.wav\n",
            "recording has lon/lat\n",
            "set_predicted_species_list_from_position\n",
            "Completed analysis for ED3_20240507_060000.wav in 130.95629000663757 seconds\n",
            "read_audio_data\n",
            "read_audio_data: complete, read  600 chunks.\n",
            "analyze_recording ED3_20240507_080000.wav\n",
            "recording has lon/lat\n",
            "set_predicted_species_list_from_position\n",
            "Completed analysis for ED3_20240507_080000.wav in 132.50833368301392 seconds\n",
            "read_audio_data\n",
            "read_audio_data: complete, read  600 chunks.\n",
            "analyze_recording ED4_20240506_080000.wav\n",
            "recording has lon/lat\n",
            "set_predicted_species_list_from_position\n",
            "Completed analysis for ED4_20240506_080000.wav in 131.01889991760254 seconds\n",
            "read_audio_data\n",
            "read_audio_data: complete, read  600 chunks.\n",
            "analyze_recording ED4_20240507_070000.wav\n",
            "recording has lon/lat\n",
            "set_predicted_species_list_from_position\n",
            "Completed analysis for ED4_20240507_070000.wav in 130.59835863113403 seconds\n",
            "read_audio_data\n",
            "read_audio_data: complete, read  600 chunks.\n",
            "analyze_recording ED4_20240509_090000.wav\n",
            "recording has lon/lat\n",
            "set_predicted_species_list_from_position\n",
            "Completed analysis for ED4_20240509_090000.wav in 132.39158415794373 seconds\n",
            "read_audio_data\n",
            "read_audio_data: complete, read  600 chunks.\n",
            "analyze_recording ED1_20240504_080000.wav\n",
            "recording has lon/lat\n",
            "set_predicted_species_list_from_position\n",
            "Completed analysis for ED1_20240504_080000.wav in 130.7896022796631 seconds\n",
            "read_audio_data\n",
            "read_audio_data: complete, read  600 chunks.\n",
            "analyze_recording ED1_20240502_060000.wav\n",
            "recording has lon/lat\n",
            "set_predicted_species_list_from_position\n",
            "Completed analysis for ED1_20240502_060000.wav in 131.17507648468018 seconds\n",
            "read_audio_data\n",
            "read_audio_data: complete, read  600 chunks.\n",
            "analyze_recording ED1_20240509_060000.wav\n",
            "recording has lon/lat\n",
            "set_predicted_species_list_from_position\n",
            "Completed analysis for ED1_20240509_060000.wav in 131.52107191085815 seconds\n",
            "read_audio_data\n",
            "read_audio_data: complete, read  600 chunks.\n",
            "analyze_recording ED2_20240506_080000.wav\n",
            "recording has lon/lat\n",
            "set_predicted_species_list_from_position\n",
            "Completed analysis for ED2_20240506_080000.wav in 130.89053201675415 seconds\n",
            "read_audio_data\n",
            "read_audio_data: complete, read  600 chunks.\n",
            "analyze_recording ED2_20240507_060000.wav\n",
            "recording has lon/lat\n",
            "set_predicted_species_list_from_position\n",
            "Completed analysis for ED2_20240507_060000.wav in 132.01655673980713 seconds\n",
            "read_audio_data\n",
            "read_audio_data: complete, read  600 chunks.\n",
            "analyze_recording ED2_20240502_060000.wav\n",
            "recording has lon/lat\n",
            "set_predicted_species_list_from_position\n",
            "Completed analysis for ED2_20240502_060000.wav in 131.28739380836487 seconds\n"
          ]
        }
      ]
    },
    {
      "cell_type": "code",
      "source": [
        "# Print the time taken for each file\n",
        "for file_name, times in time_taken.items():\n",
        "    print(f\"Time taken for {file_name}: {times}\")"
      ],
      "metadata": {
        "id": "wZtwx27XUdmg",
        "outputId": "97c0d88a-f298-4c12-af22-99562c45f88c",
        "colab": {
          "base_uri": "https://localhost:8080/"
        }
      },
      "execution_count": 14,
      "outputs": [
        {
          "output_type": "stream",
          "name": "stdout",
          "text": [
            "Time taken for ED3_20240504_060000.wav: [148.26567888259888, 131.3175413608551, 131.81006503105164]\n",
            "Time taken for ED3_20240507_060000.wav: [135.44273924827576, 132.589524269104, 130.95629000663757]\n",
            "Time taken for ED3_20240507_080000.wav: [132.7655291557312, 130.96111297607422, 132.50833368301392]\n",
            "Time taken for ED4_20240506_080000.wav: [134.55523228645325, 131.93665766716003, 131.01889991760254]\n",
            "Time taken for ED4_20240507_070000.wav: [133.07267451286316, 131.65339422225952, 130.59835863113403]\n",
            "Time taken for ED4_20240509_090000.wav: [136.04011631011963, 130.6758518218994, 132.39158415794373]\n",
            "Time taken for ED1_20240504_080000.wav: [132.42154240608215, 132.48319792747498, 130.7896022796631]\n",
            "Time taken for ED1_20240502_060000.wav: [134.03174543380737, 131.08203983306885, 131.17507648468018]\n",
            "Time taken for ED1_20240509_060000.wav: [133.2044644355774, 130.86867833137512, 131.52107191085815]\n",
            "Time taken for ED2_20240506_080000.wav: [134.92906951904297, 132.47607445716858, 130.89053201675415]\n",
            "Time taken for ED2_20240507_060000.wav: [133.40657448768616, 130.94219160079956, 132.01655673980713]\n",
            "Time taken for ED2_20240502_060000.wav: [134.09416151046753, 131.09309935569763, 131.28739380836487]\n"
          ]
        }
      ]
    },
    {
      "cell_type": "code",
      "source": [
        "# Save the Timing Data\n",
        "# Organize the timing data into a list of dictionaries\n",
        "data = [\n",
        "    {'file_name': 'ED3_20240504_060000.wav', 'run': 1, 'time': 148.26567888259888},\n",
        "    {'file_name': 'ED3_20240504_060000.wav', 'run': 2, 'time': 131.3175413608551},\n",
        "    {'file_name': 'ED3_20240504_060000.wav', 'run': 3, 'time': 131.81006503105164},\n",
        "    {'file_name': 'ED3_20240507_060000.wav', 'run': 1, 'time': 135.44273924827576},\n",
        "    {'file_name': 'ED3_20240507_060000.wav', 'run': 2, 'time': 132.589524269104},\n",
        "    {'file_name': 'ED3_20240507_060000.wav', 'run': 3, 'time': 130.95629000663757},\n",
        "    {'file_name': 'ED3_20240507_080000.wav', 'run': 1, 'time': 132.7655291557312},\n",
        "    {'file_name': 'ED3_20240507_080000.wav', 'run': 2, 'time': 130.96111297607422},\n",
        "    {'file_name': 'ED3_20240507_080000.wav', 'run': 3, 'time': 132.50833368301392},\n",
        "    {'file_name': 'ED4_20240506_080000.wav', 'run': 1, 'time': 134.55523228645325},\n",
        "    {'file_name': 'ED4_20240506_080000.wav', 'run': 2, 'time': 131.93665766716003},\n",
        "    {'file_name': 'ED4_20240506_080000.wav', 'run': 3, 'time': 131.01889991760254},\n",
        "    {'file_name': 'ED4_20240507_070000.wav', 'run': 1, 'time': 133.07267451286316},\n",
        "    {'file_name': 'ED4_20240507_070000.wav', 'run': 2, 'time': 131.65339422225952},\n",
        "    {'file_name': 'ED4_20240507_070000.wav', 'run': 3, 'time': 130.59835863113403},\n",
        "    {'file_name': 'ED4_20240509_090000.wav', 'run': 1, 'time': 136.04011631011963},\n",
        "    {'file_name': 'ED4_20240509_090000.wav', 'run': 2, 'time': 130.6758518218994},\n",
        "    {'file_name': 'ED4_20240509_090000.wav', 'run': 3, 'time': 132.39158415794373},\n",
        "    {'file_name': 'ED1_20240504_080000.wav', 'run': 1, 'time': 132.42154240608215},\n",
        "    {'file_name': 'ED1_20240504_080000.wav', 'run': 2, 'time': 132.48319792747498},\n",
        "    {'file_name': 'ED1_20240504_080000.wav', 'run': 3, 'time': 130.7896022796631},\n",
        "    {'file_name': 'ED1_20240502_060000.wav', 'run': 1, 'time': 134.03174543380737},\n",
        "    {'file_name': 'ED1_20240502_060000.wav', 'run': 2, 'time': 131.08203983306885},\n",
        "    {'file_name': 'ED1_20240502_060000.wav', 'run': 3, 'time': 131.17507648468018},\n",
        "    {'file_name': 'ED1_20240509_060000.wav', 'run': 1, 'time': 133.2044644355774},\n",
        "    {'file_name': 'ED1_20240509_060000.wav', 'run': 2, 'time': 130.86867833137512},\n",
        "    {'file_name': 'ED1_20240509_060000.wav', 'run': 3, 'time': 131.52107191085815},\n",
        "    {'file_name': 'ED2_20240506_080000.wav', 'run': 1, 'time': 134.92906951904297},\n",
        "    {'file_name': 'ED2_20240506_080000.wav', 'run': 2, 'time': 132.47607445716858},\n",
        "    {'file_name': 'ED2_20240506_080000.wav', 'run': 3, 'time': 130.89053201675415},\n",
        "    {'file_name': 'ED2_20240507_060000.wav', 'run': 1, 'time': 133.40657448768616},\n",
        "    {'file_name': 'ED2_20240507_060000.wav', 'run': 2, 'time': 130.94219160079956},\n",
        "    {'file_name': 'ED2_20240507_060000.wav', 'run': 3, 'time': 132.01655673980713},\n",
        "    {'file_name': 'ED2_20240502_060000.wav', 'run': 1, 'time': 134.09416151046753},\n",
        "    {'file_name': 'ED2_20240502_060000.wav', 'run': 2, 'time': 131.09309935569763},\n",
        "    {'file_name': 'ED2_20240502_060000.wav', 'run': 3, 'time': 131.28739380836487}\n",
        "]\n",
        "\n",
        "# Create a DataFrame\n",
        "df = pd.DataFrame(data)\n",
        "\n",
        "# Save to CSV\n",
        "csv_path = '/content/drive/MyDrive/timing_data.csv'\n",
        "df.to_csv(csv_path, index=False)\n",
        "print(f\"Timing data saved to {csv_path}\")"
      ],
      "metadata": {
        "colab": {
          "base_uri": "https://localhost:8080/"
        },
        "id": "yXxj3LUiTxX2",
        "outputId": "977f4a95-6ea4-43ed-d003-d9955300335c"
      },
      "execution_count": 18,
      "outputs": [
        {
          "output_type": "stream",
          "name": "stdout",
          "text": [
            "Timing data saved to /content/drive/MyDrive/timing_data.csv\n"
          ]
        }
      ]
    },
    {
      "cell_type": "code",
      "source": [
        "\n",
        "# Load the Data and Perform Analysis\n",
        "# Load the timing data from the CSV file\n",
        "df = pd.read_csv(csv_path)\n",
        "print(df)\n",
        "\n",
        "# Create Box Plots\n",
        "plt.figure(figsize=(12, 8))\n",
        "sns.boxplot(x='file_name', y='time', data=df)\n",
        "plt.xticks(rotation=90)\n",
        "plt.title('Box Plot of Time Taken for Each File')\n",
        "plt.xlabel('File Name')\n",
        "plt.ylabel('Time (seconds)')\n",
        "plt.show()\n",
        "\n",
        "# Perform ANOVA\n",
        "# Group the times by file_name\n",
        "grouped_times = [df[df['file_name'] == file_name]['time'].values for file_name in df['file_name'].unique()]\n",
        "\n",
        "# Perform one-way ANOVA\n",
        "f_stat, p_value = f_oneway(*grouped_times)\n",
        "\n",
        "print(f\"ANOVA results: F-statistic = {f_stat}, p-value = {p_value}\")\n",
        "\n",
        "# Interpretation\n",
        "if p_value < 0.05:\n",
        "    print(\"There is a significant difference in the time taken between different files.\")\n",
        "else:\n",
        "    print(\"There is no significant difference in the time taken between different files.\")\n"
      ],
      "metadata": {
        "colab": {
          "base_uri": "https://localhost:8080/",
          "height": 1000
        },
        "id": "nb271ZhfUZ7G",
        "outputId": "84c0e059-4836-4cfb-a22f-14f1bb7454f6"
      },
      "execution_count": 19,
      "outputs": [
        {
          "output_type": "stream",
          "name": "stdout",
          "text": [
            "                  file_name  run        time\n",
            "0   ED3_20240504_060000.wav    1  148.265679\n",
            "1   ED3_20240504_060000.wav    2  131.317541\n",
            "2   ED3_20240504_060000.wav    3  131.810065\n",
            "3   ED3_20240507_060000.wav    1  135.442739\n",
            "4   ED3_20240507_060000.wav    2  132.589524\n",
            "5   ED3_20240507_060000.wav    3  130.956290\n",
            "6   ED3_20240507_080000.wav    1  132.765529\n",
            "7   ED3_20240507_080000.wav    2  130.961113\n",
            "8   ED3_20240507_080000.wav    3  132.508334\n",
            "9   ED4_20240506_080000.wav    1  134.555232\n",
            "10  ED4_20240506_080000.wav    2  131.936658\n",
            "11  ED4_20240506_080000.wav    3  131.018900\n",
            "12  ED4_20240507_070000.wav    1  133.072675\n",
            "13  ED4_20240507_070000.wav    2  131.653394\n",
            "14  ED4_20240507_070000.wav    3  130.598359\n",
            "15  ED4_20240509_090000.wav    1  136.040116\n",
            "16  ED4_20240509_090000.wav    2  130.675852\n",
            "17  ED4_20240509_090000.wav    3  132.391584\n",
            "18  ED1_20240504_080000.wav    1  132.421542\n",
            "19  ED1_20240504_080000.wav    2  132.483198\n",
            "20  ED1_20240504_080000.wav    3  130.789602\n",
            "21  ED1_20240502_060000.wav    1  134.031745\n",
            "22  ED1_20240502_060000.wav    2  131.082040\n",
            "23  ED1_20240502_060000.wav    3  131.175076\n",
            "24  ED1_20240509_060000.wav    1  133.204464\n",
            "25  ED1_20240509_060000.wav    2  130.868678\n",
            "26  ED1_20240509_060000.wav    3  131.521072\n",
            "27  ED2_20240506_080000.wav    1  134.929070\n",
            "28  ED2_20240506_080000.wav    2  132.476074\n",
            "29  ED2_20240506_080000.wav    3  130.890532\n",
            "30  ED2_20240507_060000.wav    1  133.406574\n",
            "31  ED2_20240507_060000.wav    2  130.942192\n",
            "32  ED2_20240507_060000.wav    3  132.016557\n",
            "33  ED2_20240502_060000.wav    1  134.094162\n",
            "34  ED2_20240502_060000.wav    2  131.093099\n",
            "35  ED2_20240502_060000.wav    3  131.287394\n"
          ]
        },
        {
          "output_type": "display_data",
          "data": {
            "text/plain": [
              "<Figure size 1200x800 with 1 Axes>"
            ],
            "image/png": "[encoded data removed]"
          },
          "metadata": {}
        },
        {
          "output_type": "stream",
          "name": "stdout",
          "text": [
            "ANOVA results: F-statistic = 0.6128672382387197, p-value = 0.7999044174905225\n",
            "There is no significant difference in the time taken between different files.\n"
          ]
        }
      ]
    }
  ]
}